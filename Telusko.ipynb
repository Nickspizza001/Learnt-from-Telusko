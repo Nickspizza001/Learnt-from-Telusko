{
 "cells": [
  {
   "cell_type": "code",
   "execution_count": 68,
   "id": "2ddacd06",
   "metadata": {},
   "outputs": [
    {
     "name": "stdout",
     "output_type": "stream",
     "text": [
      "9\n"
     ]
    }
   ],
   "source": [
    "print(5+4)"
   ]
  },
  {
   "cell_type": "code",
   "execution_count": 69,
   "id": "954a6c6b",
   "metadata": {},
   "outputs": [
    {
     "name": "stdout",
     "output_type": "stream",
     "text": [
      "1\n",
      "2\n",
      "3\n",
      "4\n",
      "Mame\n"
     ]
    }
   ],
   "source": [
    "x = [1,2,3,4,\"Mame\"]\n",
    "\n",
    "for i in x: \n",
    "    print(i)"
   ]
  },
  {
   "cell_type": "code",
   "execution_count": 70,
   "id": "3ee827a6",
   "metadata": {},
   "outputs": [
    {
     "name": "stdout",
     "output_type": "stream",
     "text": [
      "0\n",
      "1\n",
      "2\n",
      "3\n",
      "4\n",
      "5\n",
      "6\n",
      "7\n",
      "8\n",
      "9\n"
     ]
    }
   ],
   "source": [
    "for i in range(10):\n",
    "    print(i)"
   ]
  },
  {
   "cell_type": "code",
   "execution_count": 71,
   "id": "e5453481",
   "metadata": {},
   "outputs": [
    {
     "name": "stdout",
     "output_type": "stream",
     "text": [
      "20\n",
      "19\n",
      "18\n",
      "17\n",
      "16\n",
      "15\n",
      "14\n",
      "13\n",
      "12\n",
      "11\n",
      "10\n",
      "9\n",
      "8\n",
      "7\n",
      "6\n",
      "5\n",
      "4\n",
      "3\n",
      "2\n",
      "1\n"
     ]
    }
   ],
   "source": [
    "for i in range(20,0, -1):\n",
    "    print(i)"
   ]
  },
  {
   "cell_type": "code",
   "execution_count": 72,
   "id": "d2e81b96",
   "metadata": {},
   "outputs": [
    {
     "name": "stdout",
     "output_type": "stream",
     "text": [
      "1\n",
      "2\n",
      "3\n",
      "4\n",
      "6\n",
      "7\n",
      "8\n",
      "9\n",
      "11\n",
      "12\n",
      "13\n",
      "14\n",
      "16\n",
      "17\n",
      "18\n",
      "19\n"
     ]
    }
   ],
   "source": [
    "for i in range(1,20):\n",
    "    c = i%5\n",
    "    if(c != 0):\n",
    "        print(i)\n",
    "     \n",
    "        \n",
    "        "
   ]
  },
  {
   "cell_type": "code",
   "execution_count": 74,
   "id": "8cf38e9c",
   "metadata": {},
   "outputs": [
    {
     "name": "stdout",
     "output_type": "stream",
     "text": [
      "How many candy do you want?45\n",
      "Candy\n",
      "Candy\n",
      "Candy\n",
      "Candy\n",
      "Candy\n",
      "Out of stock\n",
      "Bye\n"
     ]
    }
   ],
   "source": [
    "x = int(input(\"How many candy do you want?\"))\n",
    "avaliable_candies = 5\n",
    "\n",
    "i = 1\n",
    "\n",
    "while i<= x:\n",
    "    if(i > avaliable_candies):\n",
    "        print(\"Out of stock\")\n",
    "        break\n",
    "    print(\"Candy\")\n",
    "    i+=1\n",
    "    \n",
    "    \n",
    "print('Bye')"
   ]
  },
  {
   "cell_type": "code",
   "execution_count": 75,
   "id": "30ec813a",
   "metadata": {},
   "outputs": [
    {
     "name": "stdout",
     "output_type": "stream",
     "text": [
      "1\n",
      "2\n",
      "divisibe by 3 or 5\n",
      "4\n",
      "divisibe by 3 or 5\n",
      "divisibe by 3 or 5\n",
      "7\n",
      "8\n",
      "divisibe by 3 or 5\n"
     ]
    }
   ],
   "source": [
    "for i in range(1,10):\n",
    "    three = i%3\n",
    "    five = i%5\n",
    "    if(three == 0 or five == 0):\n",
    "        print(\"divisibe by 3 or 5\")\n",
    "        continue\n",
    "    else:\n",
    "        print(i)\n",
    "        \n",
    "    \n",
    "    \n",
    "        \n",
    "    \n",
    "        \n",
    "    \n",
    "    \n",
    "    \n",
    "\n",
    "        \n",
    "    "
   ]
  },
  {
   "cell_type": "code",
   "execution_count": 76,
   "id": "fdbfb2a3",
   "metadata": {},
   "outputs": [
    {
     "name": "stdout",
     "output_type": "stream",
     "text": [
      "2\n",
      "4\n",
      "6\n",
      "8\n",
      "Bye\n"
     ]
    }
   ],
   "source": [
    "for i in range(1,10):\n",
    "    if(i%2!= 0):\n",
    "        #i dont have anything to say\n",
    "        pass\n",
    "    else:\n",
    "        print(i)\n",
    "\n",
    "        \n",
    "print('Bye')\n",
    "#continue--- will skip the value and continue the iteration\n",
    "#break---- will come out of the loop. Break out of the loop \n",
    "#pass ---to keep a function or condition there while not using it\n",
    "        "
   ]
  },
  {
   "cell_type": "code",
   "execution_count": 77,
   "id": "a72cb025",
   "metadata": {},
   "outputs": [
    {
     "name": "stdout",
     "output_type": "stream",
     "text": [
      "#  \n",
      "# #  \n",
      "# # #  \n",
      "# # # #  \n"
     ]
    }
   ],
   "source": [
    "for i in range(1,5):\n",
    "    for j in range(1,5):\n",
    "        if j <= i :\n",
    "            print(\"#\", end=\" \")\n",
    "    print(\" \")"
   ]
  },
  {
   "cell_type": "code",
   "execution_count": 14,
   "id": "a5c26e42",
   "metadata": {},
   "outputs": [
    {
     "name": "stdout",
     "output_type": "stream",
     "text": [
      "# # # #  \n",
      "# # #  \n",
      "# #  \n",
      "#  \n"
     ]
    }
   ],
   "source": [
    "for i in range(1,5):\n",
    "    for j in range(1,5):\n",
    "        if j >= i:\n",
    "            print(\"#\", end=\" \")\n",
    "    print(\" \")"
   ]
  },
  {
   "cell_type": "code",
   "execution_count": 18,
   "id": "0012d62a",
   "metadata": {},
   "outputs": [
    {
     "name": "stdout",
     "output_type": "stream",
     "text": [
      "15\n"
     ]
    }
   ],
   "source": [
    "nums = [ 12,15,18,25, 26]\n",
    "\n",
    "\n",
    "for i in nums:\n",
    "    if i%5 ==  0:\n",
    "        print(i)\n",
    "        break\n",
    "    "
   ]
  },
  {
   "cell_type": "code",
   "execution_count": 19,
   "id": "df3540f2",
   "metadata": {},
   "outputs": [
    {
     "name": "stdout",
     "output_type": "stream",
     "text": [
      "Not found\n"
     ]
    }
   ],
   "source": [
    "nums = [ 12,13,18,24, 26]\n",
    "\n",
    "\n",
    "for i in nums:\n",
    "    if i%5 ==  0:\n",
    "        print(i)\n",
    "        break\n",
    "        \n",
    "else: \n",
    "    print(\"Not found\")\n",
    "    "
   ]
  },
  {
   "cell_type": "code",
   "execution_count": 41,
   "id": "fed24c20",
   "metadata": {},
   "outputs": [
    {
     "name": "stdout",
     "output_type": "stream",
     "text": [
      "2\n",
      "0\n",
      "Not prime\n"
     ]
    }
   ],
   "source": [
    "num = 10\n",
    "for i in range(2,num):\n",
    "    if num % i == 0:\n",
    "        print(i)\n",
    "        print(num%i)\n",
    "        print(\"Not prime\")\n",
    "        break\n",
    "else: \n",
    "    print(\"Prime\")"
   ]
  },
  {
   "cell_type": "code",
   "execution_count": 50,
   "id": "6b3969af",
   "metadata": {},
   "outputs": [
    {
     "name": "stdout",
     "output_type": "stream",
     "text": [
      "(2189049587872, 4)\n"
     ]
    },
    {
     "data": {
      "text/plain": [
       "2"
      ]
     },
     "execution_count": 50,
     "metadata": {},
     "output_type": "execute_result"
    }
   ],
   "source": [
    "import array as arr\n",
    "\n",
    "vals = arr.array(\"i\", [-4,5,6,2])\n",
    "print(vals.buffer_info())\n",
    "vals.reverse()\n",
    "vals[0]"
   ]
  },
  {
   "cell_type": "code",
   "execution_count": 53,
   "id": "67b9a168",
   "metadata": {},
   "outputs": [
    {
     "name": "stdout",
     "output_type": "stream",
     "text": [
      "(2189049588032, 4)\n"
     ]
    },
    {
     "data": {
      "text/plain": [
       "'2'"
      ]
     },
     "execution_count": 53,
     "metadata": {},
     "output_type": "execute_result"
    }
   ],
   "source": [
    "import array as arr\n",
    "\n",
    "vals = arr.array(\"u\", [\"j\",\"s\",\"6\",\"2\"])\n",
    "print(vals.buffer_info())\n",
    "vals.reverse()\n",
    "vals[0]"
   ]
  },
  {
   "cell_type": "code",
   "execution_count": 58,
   "id": "e15c7c32",
   "metadata": {},
   "outputs": [
    {
     "name": "stdout",
     "output_type": "stream",
     "text": [
      "Enter the length of the array?7\n",
      "Enter your value: 3\n",
      "Enter your value: 4\n",
      "Enter your value: 5\n",
      "Enter your value: 6\n",
      "Enter your value: 7\n",
      "Enter your value: 8\n",
      "Enter your value: 9\n",
      "array('i', [3, 4, 5, 6, 7, 8, 9])\n",
      "enter the value you want to check: 9\n",
      "6\n"
     ]
    }
   ],
   "source": [
    "all = arr.array(\"i\", [])\n",
    "\n",
    "n = int(input(\"Enter the length of the array?\"))\n",
    "\n",
    "for i in range(n):\n",
    "    num = int(input(\"Enter your value: \"))\n",
    "    all.append(num)\n",
    "    \n",
    "print(all)\n",
    "\n",
    "val = int(input(\"enter the value you want to check: \"))\n",
    "k = 0\n",
    "for i in all:\n",
    "    if i == val:\n",
    "        print(k)\n",
    "        break\n",
    "    k+=1"
   ]
  },
  {
   "cell_type": "code",
   "execution_count": 2,
   "id": "656d9c2e",
   "metadata": {},
   "outputs": [
    {
     "name": "stdout",
     "output_type": "stream",
     "text": [
      "[1. 2. 3. 4.]\n"
     ]
    },
    {
     "data": {
      "text/plain": [
       "dtype('float64')"
      ]
     },
     "execution_count": 2,
     "metadata": {},
     "output_type": "execute_result"
    }
   ],
   "source": [
    "from numpy import *\n",
    "\n",
    "arr = array([1,2,3,4.0])\n",
    "\n",
    "print(arr)\n",
    "arr.dtype"
   ]
  },
  {
   "cell_type": "code",
   "execution_count": 3,
   "id": "98ac4e2a",
   "metadata": {},
   "outputs": [
    {
     "data": {
      "text/plain": [
       "array([119.  , 120.75, 122.5 , 124.25, 126.  , 127.75, 129.5 , 131.25,\n",
       "       133.  , 134.75, 136.5 , 138.25, 140.  , 141.75, 143.5 , 145.25,\n",
       "       147.  , 148.75, 150.5 , 152.25, 154.  , 155.75, 157.5 , 159.25,\n",
       "       161.  , 162.75, 164.5 , 166.25, 168.  , 169.75, 171.5 , 173.25,\n",
       "       175.  , 176.75, 178.5 , 180.25, 182.  , 183.75, 185.5 , 187.25,\n",
       "       189.  ])"
      ]
     },
     "execution_count": 3,
     "metadata": {},
     "output_type": "execute_result"
    }
   ],
   "source": [
    "arr = linspace(119,189,41) \n",
    "arr"
   ]
  },
  {
   "cell_type": "code",
   "execution_count": 4,
   "id": "0dd0daa1",
   "metadata": {},
   "outputs": [
    {
     "data": {
      "text/plain": [
       "array([ 1,  3,  5,  7,  9, 11, 13, 15, 17, 19, 21, 23, 25, 27, 29])"
      ]
     },
     "execution_count": 4,
     "metadata": {},
     "output_type": "execute_result"
    }
   ],
   "source": [
    "arr = arange(1,30,2)\n",
    "\n",
    "arr"
   ]
  },
  {
   "cell_type": "code",
   "execution_count": 5,
   "id": "1d9bf419",
   "metadata": {},
   "outputs": [
    {
     "data": {
      "text/plain": [
       "array([1.00000000e+01, 1.77827941e+03, 3.16227766e+05, 5.62341325e+07,\n",
       "       1.00000000e+10])"
      ]
     },
     "execution_count": 5,
     "metadata": {},
     "output_type": "execute_result"
    }
   ],
   "source": [
    "arr = logspace(1,10,5)\n",
    "\n",
    "arr"
   ]
  },
  {
   "cell_type": "code",
   "execution_count": 6,
   "id": "aa6c2a91",
   "metadata": {},
   "outputs": [
    {
     "name": "stdout",
     "output_type": "stream",
     "text": [
      "[0. 0. 0. 0. 0.]\n"
     ]
    },
    {
     "data": {
      "text/plain": [
       "array([1, 1, 1, 1, 1])"
      ]
     },
     "execution_count": 6,
     "metadata": {},
     "output_type": "execute_result"
    }
   ],
   "source": [
    "arr = zeros(5)\n",
    "arr2 = ones(5,int)\n",
    "print(arr);\n",
    "arr2"
   ]
  },
  {
   "cell_type": "code",
   "execution_count": 7,
   "id": "3218a5a4",
   "metadata": {},
   "outputs": [
    {
     "data": {
      "text/plain": [
       "array([ 6,  7,  8,  9, 10])"
      ]
     },
     "execution_count": 7,
     "metadata": {},
     "output_type": "execute_result"
    }
   ],
   "source": [
    "arr = array([1,2,3,4,5])\n",
    "#how to add all element in an array without for loop\n",
    "arr = arr+5\n",
    "arr"
   ]
  },
  {
   "cell_type": "code",
   "execution_count": 8,
   "id": "e8ee1040",
   "metadata": {},
   "outputs": [
    {
     "data": {
      "text/plain": [
       "array([ 7, 10, 12, 14, 16])"
      ]
     },
     "execution_count": 8,
     "metadata": {},
     "output_type": "execute_result"
    }
   ],
   "source": [
    "arr2 = array([1,3,4,5,6])\n",
    "\n",
    "arr3 = arr + arr2\n",
    "\n",
    "arr3"
   ]
  },
  {
   "cell_type": "code",
   "execution_count": 9,
   "id": "d55a981a",
   "metadata": {},
   "outputs": [
    {
     "name": "stdout",
     "output_type": "stream",
     "text": [
      "[2.64575131 3.16227766 3.46410162 3.74165739 4.        ]\n"
     ]
    }
   ],
   "source": [
    "print(sqrt(arr3))"
   ]
  },
  {
   "cell_type": "code",
   "execution_count": 10,
   "id": "6d05b1d2",
   "metadata": {},
   "outputs": [
    {
     "name": "stdout",
     "output_type": "stream",
     "text": [
      "[ 6  7  8  9 10]\n"
     ]
    }
   ],
   "source": [
    "print(sort(arr))"
   ]
  },
  {
   "cell_type": "code",
   "execution_count": 11,
   "id": "1092c5cf",
   "metadata": {},
   "outputs": [
    {
     "data": {
      "text/plain": [
       "2"
      ]
     },
     "execution_count": 11,
     "metadata": {},
     "output_type": "execute_result"
    }
   ],
   "source": [
    "arr1 = array([\n",
    "    \n",
    "    [1,2,3],\n",
    "    [2,3,4]\n",
    "])\n",
    "\n",
    "arr1.ndim"
   ]
  },
  {
   "cell_type": "code",
   "execution_count": 12,
   "id": "e9781a7a",
   "metadata": {},
   "outputs": [
    {
     "data": {
      "text/plain": [
       "(2, 3)"
      ]
     },
     "execution_count": 12,
     "metadata": {},
     "output_type": "execute_result"
    }
   ],
   "source": [
    "arr1.shape"
   ]
  },
  {
   "cell_type": "code",
   "execution_count": 14,
   "id": "18b465cc",
   "metadata": {},
   "outputs": [
    {
     "data": {
      "text/plain": [
       "6"
      ]
     },
     "execution_count": 14,
     "metadata": {},
     "output_type": "execute_result"
    }
   ],
   "source": [
    "arr1.size"
   ]
  },
  {
   "cell_type": "code",
   "execution_count": 16,
   "id": "0985262c",
   "metadata": {},
   "outputs": [
    {
     "data": {
      "text/plain": [
       "array([[1, 2, 3],\n",
       "       [2, 3, 4]])"
      ]
     },
     "execution_count": 16,
     "metadata": {},
     "output_type": "execute_result"
    }
   ],
   "source": [
    "arr1.flatten\n",
    "arr1"
   ]
  },
  {
   "cell_type": "code",
   "execution_count": 19,
   "id": "5c590ff6",
   "metadata": {},
   "outputs": [
    {
     "name": "stdout",
     "output_type": "stream",
     "text": [
      "[1 2 3 2 3 4]\n"
     ]
    }
   ],
   "source": [
    "arr2 = arr1.flatten() \n",
    "print(arr2)"
   ]
  },
  {
   "cell_type": "code",
   "execution_count": 23,
   "id": "29443fcd",
   "metadata": {},
   "outputs": [
    {
     "data": {
      "text/plain": [
       "array([[1, 2, 3],\n",
       "       [2, 3, 4]])"
      ]
     },
     "execution_count": 23,
     "metadata": {},
     "output_type": "execute_result"
    }
   ],
   "source": [
    "arr3 = arr2.reshape(2,3)\n",
    "arr3"
   ]
  },
  {
   "cell_type": "code",
   "execution_count": 24,
   "id": "dcb214a1",
   "metadata": {},
   "outputs": [
    {
     "data": {
      "text/plain": [
       "matrix([[1, 2, 3],\n",
       "        [2, 3, 4]])"
      ]
     },
     "execution_count": 24,
     "metadata": {},
     "output_type": "execute_result"
    }
   ],
   "source": [
    "m =matrix(arr3)\n",
    "m"
   ]
  },
  {
   "cell_type": "code",
   "execution_count": 25,
   "id": "38b02c9f",
   "metadata": {},
   "outputs": [
    {
     "data": {
      "text/plain": [
       "matrix([[ 2,  4,  6],\n",
       "        [ 8, 10, 12],\n",
       "        [14, 16, 18]])"
      ]
     },
     "execution_count": 25,
     "metadata": {},
     "output_type": "execute_result"
    }
   ],
   "source": [
    "m1 = matrix('1 2 3; 4 5 6; 7 8 9')\n",
    "m2 = matrix('1 2 3; 4 5 6; 7 8 9')\n",
    "m3 = m1+ m2\n",
    "m3\n",
    "\n",
    "\n"
   ]
  },
  {
   "cell_type": "code",
   "execution_count": 26,
   "id": "bc2b408f",
   "metadata": {},
   "outputs": [
    {
     "data": {
      "text/plain": [
       "matrix([[ 30,  36,  42],\n",
       "        [ 66,  81,  96],\n",
       "        [102, 126, 150]])"
      ]
     },
     "execution_count": 26,
     "metadata": {},
     "output_type": "execute_result"
    }
   ],
   "source": [
    "m3 = m1 * m2\n",
    "m3"
   ]
  },
  {
   "cell_type": "code",
   "execution_count": 27,
   "id": "f5680316",
   "metadata": {},
   "outputs": [
    {
     "name": "stdout",
     "output_type": "stream",
     "text": [
      "hello\n"
     ]
    }
   ],
   "source": [
    "def greet():\n",
    "    print(\"hello\")\n",
    "    \n",
    "greet()"
   ]
  },
  {
   "cell_type": "code",
   "execution_count": 28,
   "id": "94e4a94b",
   "metadata": {},
   "outputs": [
    {
     "name": "stdout",
     "output_type": "stream",
     "text": [
      "9\n"
     ]
    }
   ],
   "source": [
    "def add(a,b):\n",
    "    print(a+b)\n",
    "    \n",
    "add(4,5)"
   ]
  },
  {
   "cell_type": "code",
   "execution_count": 30,
   "id": "ced2a74f",
   "metadata": {},
   "outputs": [
    {
     "data": {
      "text/plain": [
       "6"
      ]
     },
     "execution_count": 30,
     "metadata": {},
     "output_type": "execute_result"
    }
   ],
   "source": [
    "def addi(a,b):\n",
    "    c = a+b\n",
    "    return c\n",
    "\n",
    "\n",
    "addi(2,4)"
   ]
  },
  {
   "cell_type": "code",
   "execution_count": 31,
   "id": "964d31cb",
   "metadata": {},
   "outputs": [
    {
     "data": {
      "text/plain": [
       "(6, 2)"
      ]
     },
     "execution_count": 31,
     "metadata": {},
     "output_type": "execute_result"
    }
   ],
   "source": [
    "def add_sub(x,y):\n",
    "    a = x+y\n",
    "    b = x-y\n",
    "    return a,b\n",
    "\n",
    "add_sub(4,2)\n",
    "    "
   ]
  },
  {
   "cell_type": "code",
   "execution_count": 32,
   "id": "3497403f",
   "metadata": {},
   "outputs": [
    {
     "name": "stdout",
     "output_type": "stream",
     "text": [
      "8\n"
     ]
    }
   ],
   "source": [
    "def okay(x):\n",
    "    x= 8\n",
    "    print(x)\n",
    "    \n",
    "okay(3)\n",
    "    "
   ]
  },
  {
   "cell_type": "code",
   "execution_count": 34,
   "id": "bca7a10d",
   "metadata": {},
   "outputs": [
    {
     "name": "stdout",
     "output_type": "stream",
     "text": [
      "Dami\n",
      "56\n"
     ]
    }
   ],
   "source": [
    "   #keywords\n",
    "def person(name, age):\n",
    "    print(name)\n",
    "    print(age)\n",
    "      \n",
    "person(age=56, name=\"Dami\")\n"
   ]
  },
  {
   "cell_type": "code",
   "execution_count": 35,
   "id": "dc7e28bf",
   "metadata": {},
   "outputs": [
    {
     "name": "stdout",
     "output_type": "stream",
     "text": [
      "Dami\n",
      "4\n"
     ]
    }
   ],
   "source": [
    "   #default\n",
    "def person(name, age=4):\n",
    "    print(name)\n",
    "    print(age)\n",
    "      \n",
    "person(\"Dami\")\n"
   ]
  },
  {
   "cell_type": "code",
   "execution_count": 46,
   "id": "6a99464b",
   "metadata": {},
   "outputs": [
    {
     "data": {
      "text/plain": [
       "19"
      ]
     },
     "execution_count": 46,
     "metadata": {},
     "output_type": "execute_result"
    }
   ],
   "source": [
    "   #multiple values, single data\n",
    "def person(a,*b):\n",
    "    \n",
    "    total = a\n",
    "    for i in b:\n",
    "        total = total + i\n",
    "    return total\n",
    "person(2,2,3,5,7)\n"
   ]
  },
  {
   "cell_type": "code",
   "execution_count": 52,
   "id": "e28a3169",
   "metadata": {},
   "outputs": [
    {
     "name": "stdout",
     "output_type": "stream",
     "text": [
      "Dami\n",
      "age 16\n",
      "classe ss2\n"
     ]
    }
   ],
   "source": [
    "#keyworded variable length arguments\n",
    "\n",
    "#multiple data\n",
    "\n",
    "\n",
    "def person(name, **data):\n",
    "    print(name)\n",
    "    for i,j in data.items():\n",
    "            print(i,j)\n",
    "    \n",
    "\n",
    "person(\"Dami\", age=16,classe=\"ss2\")\n",
    "\n",
    "\n"
   ]
  },
  {
   "cell_type": "code",
   "execution_count": 53,
   "id": "975c73fd",
   "metadata": {},
   "outputs": [
    {
     "name": "stdout",
     "output_type": "stream",
     "text": [
      "Global:  10\n",
      "Local:  15\n"
     ]
    }
   ],
   "source": [
    "#global keywords\n",
    "\n",
    "a= 10 # a global variable\n",
    "\n",
    "def something():\n",
    "    a = 15 # local variable\n",
    "    \n",
    "    print(\"Local: \", a)\n",
    "    \n",
    "print(\"Global: \", a)\n",
    "\n",
    "something()"
   ]
  },
  {
   "cell_type": "code",
   "execution_count": 56,
   "id": "5a30f4c9",
   "metadata": {},
   "outputs": [
    {
     "name": "stdout",
     "output_type": "stream",
     "text": [
      "Local:  15\n",
      "Global:  15\n"
     ]
    }
   ],
   "source": [
    "#global keywords\n",
    "\n",
    "a= 10 # a global variable\n",
    "\n",
    "def something():\n",
    "    global a #to make the variable global\n",
    "    a = 15 # local variable\n",
    "    \n",
    "    print(\"Local: \", a)\n",
    "    \n",
    "something()\n",
    "    \n",
    "print(\"Global: \", a)\n"
   ]
  },
  {
   "cell_type": "code",
   "execution_count": 63,
   "id": "9d8fd658",
   "metadata": {},
   "outputs": [
    {
     "name": "stdout",
     "output_type": "stream",
     "text": [
      "No of odd:  6\n",
      "No of even:  5\n"
     ]
    }
   ],
   "source": [
    "list = [1,2,3,4,5,6,7,8,9,10,11]\n",
    "\n",
    "def count(a):\n",
    "    \n",
    "    odd = []\n",
    "    even = []\n",
    "    for i in a:\n",
    "        if i%2==0:\n",
    "            even.append(i)\n",
    "        else:\n",
    "            odd.append(i)\n",
    "    print(\"No of odd: \", len(odd))\n",
    "    print(\"No of even: \",len(even))\n",
    "    \n",
    "\n",
    "count(list)"
   ]
  },
  {
   "cell_type": "code",
   "execution_count": 93,
   "id": "937b9c83",
   "metadata": {},
   "outputs": [
    {
     "name": "stdout",
     "output_type": "stream",
     "text": [
      "How many numbers are you willing to check?1\n",
      "Enter a value: 2\n",
      "Even: 1; Odd: 0\n"
     ]
    }
   ],
   "source": [
    "\n",
    "\n",
    "def count():\n",
    "    list_no = int(input(\"How many numbers are you willing to check?\"))\n",
    "    \n",
    "    list = []\n",
    "    for i in range(list_no):\n",
    "        b = int(input(\"Enter a value: \"))\n",
    "        list.append(b)\n",
    "    #print(list)\n",
    "    odd = []\n",
    "    even = []\n",
    "    for i in list:\n",
    "        if i%2==0:\n",
    "            even.append(i)\n",
    "        else:\n",
    "            odd.append(i)\n",
    "    return(len(odd), len(even))\n",
    "   \n",
    "\n",
    "\n",
    "x,y = count()\n",
    "print(\"Even: {}; Odd: {}\".format(y,x))"
   ]
  },
  {
   "cell_type": "code",
   "execution_count": 100,
   "id": "b3698dc4",
   "metadata": {},
   "outputs": [
    {
     "name": "stdout",
     "output_type": "stream",
     "text": [
      "Enter the number you want:3\n",
      "6\n"
     ]
    }
   ],
   "source": [
    "def factorial():\n",
    "    num = int(input('Enter the number you want:'))\n",
    "    list = []\n",
    "    for i in range(1,num+1):\n",
    "        list.append(i)\n",
    "    multiply=1   \n",
    "    for i in list:\n",
    "        multiply = multiply * i8\n",
    "    print(multiply)    \n",
    "        \n",
    "\n",
    "factorial()"
   ]
  },
  {
   "cell_type": "code",
   "execution_count": 102,
   "id": "44ed6cfa",
   "metadata": {},
   "outputs": [
    {
     "name": "stdout",
     "output_type": "stream",
     "text": [
      "enter the number: 4\n",
      "24\n"
     ]
    }
   ],
   "source": [
    "def factorial():\n",
    "    num = int(input(\"enter the number: \"))\n",
    "    \n",
    "    f = 1\n",
    "    for i in range(1,num+1):\n",
    "        f = f*i\n",
    "    print(f)\n",
    "    \n",
    "factorial()"
   ]
  },
  {
   "cell_type": "code",
   "execution_count": 104,
   "id": "03d6d130",
   "metadata": {},
   "outputs": [
    {
     "name": "stdout",
     "output_type": "stream",
     "text": [
      "2000\n"
     ]
    }
   ],
   "source": [
    "#recursion\n",
    "import sys \n",
    "sys.setrecursionlimit(2000)\n",
    "print(sys.getrecursionlimit())\n"
   ]
  },
  {
   "cell_type": "code",
   "execution_count": 105,
   "id": "2dc3aeb0",
   "metadata": {},
   "outputs": [
    {
     "name": "stdout",
     "output_type": "stream",
     "text": [
      "25\n"
     ]
    }
   ],
   "source": [
    "#anonymous functions\n",
    "\n",
    "f= lambda a: a*a\n",
    "result = f(5)\n",
    "print(result)"
   ]
  },
  {
   "cell_type": "code",
   "execution_count": 106,
   "id": "c7e0e51c",
   "metadata": {},
   "outputs": [
    {
     "name": "stdout",
     "output_type": "stream",
     "text": [
      "11\n"
     ]
    }
   ],
   "source": [
    "#anonymous functions\n",
    "\n",
    "f= lambda a,b: a+b\n",
    "result = f(5,6)\n",
    "print(result)"
   ]
  },
  {
   "cell_type": "code",
   "execution_count": 2,
   "id": "1618beea",
   "metadata": {},
   "outputs": [
    {
     "name": "stdout",
     "output_type": "stream",
     "text": [
      "[2, 4, 4, 6]\n",
      "[2, 4, 4, 6]\n"
     ]
    }
   ],
   "source": [
    "nums = [1,2,3,4,4,5,6,7]\n",
    "def isEven(a):\n",
    "    return a%2==0\n",
    "evens= list(filter(isEven, nums))\n",
    "print(evens)\n",
    "\n",
    "\n",
    "#or using anonymous functions\n",
    "\n",
    "evens = list(filter(lambda a: a%2==0, nums))\n",
    "print(evens)"
   ]
  },
  {
   "cell_type": "code",
   "execution_count": 3,
   "id": "c50fc996",
   "metadata": {},
   "outputs": [
    {
     "name": "stdout",
     "output_type": "stream",
     "text": [
      "[4, 16, 16, 36]\n"
     ]
    }
   ],
   "source": [
    "square = list(map(lambda a: a*a, evens))\n",
    "print(square)"
   ]
  },
  {
   "cell_type": "code",
   "execution_count": 6,
   "id": "527e6def",
   "metadata": {},
   "outputs": [
    {
     "name": "stdout",
     "output_type": "stream",
     "text": [
      "72\n"
     ]
    }
   ],
   "source": [
    "#reduce\n",
    "from functools import reduce\n",
    "total= reduce(lambda a,b:a+b, square)\n",
    "print(total)"
   ]
  },
  {
   "cell_type": "code",
   "execution_count": 13,
   "id": "ff33fcbe",
   "metadata": {},
   "outputs": [
    {
     "name": "stdout",
     "output_type": "stream",
     "text": [
      "2.0\n"
     ]
    }
   ],
   "source": [
    "#decorators: add extra features to existing functions or change the behaviour of a parent fuction by adding a new feature\n",
    "\n",
    "\n",
    "def div(a,b):\n",
    "    print(a/b)\n",
    "    \n",
    "def smart_div(func):\n",
    "    def inner(a,b):\n",
    "        if a< b:\n",
    "            a,b=b,a\n",
    "        return func(a,b)\n",
    "    return inner\n",
    "\n",
    "div = smart_div(div)\n",
    "div(5,10)\n"
   ]
  },
  {
   "cell_type": "code",
   "execution_count": 14,
   "id": "f03122f5",
   "metadata": {},
   "outputs": [
    {
     "name": "stdout",
     "output_type": "stream",
     "text": [
      "__main__\n"
     ]
    }
   ],
   "source": [
    "print(__name__)"
   ]
  },
  {
   "cell_type": "code",
   "execution_count": 15,
   "id": "87289bfc",
   "metadata": {},
   "outputs": [
    {
     "name": "stdout",
     "output_type": "stream",
     "text": [
      "i5 16gb 1tb\n",
      "i5 16gb 1tb\n",
      "i5 16gb 1tb\n"
     ]
    }
   ],
   "source": [
    "#object oriented programming: Class\n",
    "\n",
    "class Computer:\n",
    "    def config(self):\n",
    "\n",
    "        print(\"i5\", '16gb', '1tb')\n",
    "\n",
    "com1 = Computer().config()\n",
    "\n",
    "#or\n",
    "com1 = Computer()\n",
    "Computer.config(com1)\n",
    "\n",
    "#or\n",
    "com1.config()\n",
    "        \n"
   ]
  },
  {
   "cell_type": "code",
   "execution_count": 19,
   "id": "70a08bd4",
   "metadata": {},
   "outputs": [
    {
     "name": "stdout",
     "output_type": "stream",
     "text": [
      "BMW 20 5\n"
     ]
    },
    {
     "data": {
      "text/plain": [
       "('BMW', 10, 5)"
      ]
     },
     "execution_count": 19,
     "metadata": {},
     "output_type": "execute_result"
    }
   ],
   "source": [
    "class Car:\n",
    "    wheels = 4 #Class variables or Static variables:  common to all objects\n",
    "    def __init__(self):\n",
    "        self.mil = 10   # instance variables: they are within the init method\n",
    "        self.com =\"BMW\"\n",
    "\n",
    "        \n",
    "c1 = Car()\n",
    "c2 = Car()\n",
    "\n",
    "c1.mil=20\n",
    "Car.wheels= 5\n",
    "print(c1.com, c1.mil, c1.wheels)\n",
    "c2.com, c2.mil, c2.wheels"
   ]
  },
  {
   "cell_type": "code",
   "execution_count": 1,
   "id": "d995e581",
   "metadata": {},
   "outputs": [
    {
     "name": "stdout",
     "output_type": "stream",
     "text": [
      "Fgc,Lagos\n",
      "This a student class\n"
     ]
    },
    {
     "data": {
      "text/plain": [
       "(10.666666666666666, 15.666666666666666)"
      ]
     },
     "execution_count": 1,
     "metadata": {},
     "output_type": "execute_result"
    }
   ],
   "source": [
    "class Student:\n",
    "    school = \"Fgc,Lagos\"\n",
    "    \n",
    "    def __init__(self, m1,m2, m3):\n",
    "        self.m1 = m1\n",
    "        self.m2 = m2\n",
    "        self.m3 = m3\n",
    "    def average(self):#This is an instance method, because we passed SELF\n",
    "        return (self.m1 + self.m2 + self.m3)/3\n",
    "    \n",
    "    def set_m1(self, value):\n",
    "        self.m1 = value\n",
    "    @classmethod    #decorators\n",
    "    def getSchool(cls): #Class methods\n",
    "        return cls.school\n",
    "    \n",
    "    @staticmethod\n",
    "    def info(): #Static method\n",
    "        print('This a student class')\n",
    "    \n",
    "    \n",
    "        \n",
    "        \n",
    "        \n",
    "\n",
    "s1 = Student(23,4,5)\n",
    "s2 = Student(3,6,7)\n",
    "s2.set_m1(34)\n",
    "\n",
    "print(Student.getSchool())\n",
    "Student.info()\n",
    "\n",
    "s1.average(),s2.average()"
   ]
  },
  {
   "cell_type": "code",
   "execution_count": 11,
   "id": "765fe6a4",
   "metadata": {},
   "outputs": [
    {
     "name": "stdout",
     "output_type": "stream",
     "text": [
      "Feature 1 working\n",
      "Feature 1 working\n",
      "Feature 1 working\n",
      "Feature 2 working\n"
     ]
    }
   ],
   "source": [
    "#Inheritance\n",
    "class A:\n",
    "    def feature1(self):\n",
    "        print(\"Feature 1 working\")\n",
    "    def feature2(self):\n",
    "        print(\"Feature 2 working\")\n",
    "\n",
    "        \n",
    "class B(A):# B is inheriting the features of class A\n",
    "    def feature3(self):\n",
    "        print(\"Feature 3 working\")\n",
    "    def feature4(self):\n",
    "        print(\"Feature 4 working\")\n",
    "\n",
    "class C(B): #C is inheriting from B and A\n",
    "    def feature5(self):\n",
    "        print(\"Feature 5 is working\")\n",
    "    \n",
    "class D: \n",
    "    def feature6(self):\n",
    "        print(\"This is feature 6\")\n",
    "class E(A,D):#Multiple inheritance\n",
    "    def feature7(self):\n",
    "        print(\"This is feature 7\")\n",
    "        \n",
    "a1 = A()\n",
    "\n",
    "b1 = B()\n",
    "\n",
    "c1 = C()\n",
    "\n",
    "\n",
    "e1 = E()\n",
    "\n",
    "e1.feature1()\n",
    "b1.feature1()#Single level inheritance\n",
    "\n",
    "a1.feature1()\n",
    "\n",
    "c1.feature2()#Multilevel inheritance\n"
   ]
  },
  {
   "cell_type": "code",
   "execution_count": 15,
   "id": "33cb23de",
   "metadata": {},
   "outputs": [
    {
     "name": "stdout",
     "output_type": "stream",
     "text": [
      "Init A\n",
      "Init B\n"
     ]
    }
   ],
   "source": [
    "#Constructor in Inheritance\n",
    "\n",
    "class A:\n",
    "    def __init__(self):\n",
    "        print(\"Init A\")\n",
    "    def feature1(self):\n",
    "        print(\"Feature 1 working\")\n",
    "    def feature2(self):\n",
    "        print(\"Feature 2 working\")\n",
    "\n",
    "        \n",
    "class B(A):# B is inheriting the features of class A\n",
    "    def __init__(self):\n",
    "        super().__init__()# to call the init method of super class i.e A\n",
    "        print(\"Init B\")\n",
    "    def feature3(self):\n",
    "        print(\"Feature 3 working\")\n",
    "    def feature4(self):\n",
    "        print(\"Feature 4 working\")\n",
    "\n",
    "b1 = B()#an instance of a class also inherit constructor from parent class\n",
    "\n",
    "\n",
    "\n"
   ]
  },
  {
   "cell_type": "code",
   "execution_count": 22,
   "id": "362536ef",
   "metadata": {},
   "outputs": [
    {
     "name": "stdout",
     "output_type": "stream",
     "text": [
      "Init A\n",
      "Init C\n",
      "Feature 1-A working\n",
      "Feature 4 working\n"
     ]
    }
   ],
   "source": [
    "class A:\n",
    "    def __init__(self):\n",
    "        print(\"Init A\")\n",
    "    def feature1(self):\n",
    "        print(\"Feature 1-A working\")\n",
    "    def feature2(self):\n",
    "        print(\"Feature 2 working\")\n",
    "\n",
    "        \n",
    "class B:\n",
    "    def __init__(self):\n",
    "       print(\"init b\")\n",
    "    def feature1(self):\n",
    "        print(\"Feature 1_B working\")\n",
    "    def feature4(self):\n",
    "        print(\"Feature 4 working\")\n",
    "\n",
    "class C(A,B):\n",
    "    def __init__(self):\n",
    "        super().__init__()#call the constructor of left class A\n",
    "        print(\"Init C\")\n",
    "        \n",
    "    def  feat(self):\n",
    "        super().feature4()# Inheritance with methods\n",
    "        \n",
    "  \n",
    "\n",
    "        \n",
    "c1 = C()\n",
    "c1.feature1()\n",
    "c1.feat()"
   ]
  },
  {
   "cell_type": "code",
   "execution_count": 23,
   "id": "b9b342c5",
   "metadata": {},
   "outputs": [
    {
     "name": "stdout",
     "output_type": "stream",
     "text": [
      "the best\n",
      "also the best\n"
     ]
    }
   ],
   "source": [
    "#Polymorphism: one thing in many form\n",
    "\n",
    "#Duck Typing\n",
    "\n",
    "class Pycharm:\n",
    "    def execute(self):\n",
    "        print(\"Execute\")\n",
    "        print(\"program\")\n",
    "\n",
    "class Vscode:\n",
    "    def execute(self):\n",
    "        print(\"the best\")\n",
    "        print(\"also the best\")\n",
    "        \n",
    "class Laptop:\n",
    "    def code(self, editor):\n",
    "        editor.execute()\n",
    "        \n",
    "lap1 = Laptop()\n",
    "\n",
    "lap1.code(Vscode())\n",
    "\n",
    "\n"
   ]
  },
  {
   "cell_type": "code",
   "execution_count": 32,
   "id": "eb2ea47d",
   "metadata": {},
   "outputs": [
    {
     "name": "stdout",
     "output_type": "stream",
     "text": [
      "11\n",
      "95 127\n",
      "s2 wins\n"
     ]
    }
   ],
   "source": [
    "#operator overloading\n",
    "\n",
    "print(int.__add__(6,5))\n",
    "\n",
    "class Student:\n",
    "    def __init__(self, m1,m2):\n",
    "        self.m1 =m1\n",
    "        self.m2 =m2\n",
    "        \n",
    "    def __add__(self, other):\n",
    "        m1 = self.m1 + other.m1\n",
    "        m2 = self.m2+ other.m2\n",
    "        \n",
    "        s3 = Student(m1,m2)\n",
    "        \n",
    "        return s3\n",
    "    \n",
    "    def __gt__(self, other):\n",
    "        r1 = self.m1 + self.m2\n",
    "        r2 = other.m1 + other.m2\n",
    "        \n",
    "        if r1 > r2:\n",
    "            return True\n",
    "        else:\n",
    "            return False\n",
    "        \n",
    "        \n",
    "s1 = Student(50,60)\n",
    "s2 = Student(45,67)\n",
    "s3 = s1+s2\n",
    "print(s3.m1,s3.m2)\n",
    "\n",
    "if s1 > s2:\n",
    "    print(\"s1 wins\")\n",
    "else: \n",
    "    print(\"s2 wins\")"
   ]
  },
  {
   "cell_type": "code",
   "execution_count": 34,
   "id": "fb8a3669",
   "metadata": {},
   "outputs": [
    {
     "data": {
      "text/plain": [
       "6"
      ]
     },
     "execution_count": 34,
     "metadata": {},
     "output_type": "execute_result"
    }
   ],
   "source": [
    "#method overloading: \n",
    "class Student:\n",
    "    def __init__(self, m1,m2):\n",
    "        self.m1 =m1\n",
    "        self.m2 =m2\n",
    "        \n",
    "        \n",
    "    def sum(self,a,b):\n",
    "        s = a+ b\n",
    "        return s\n",
    "    \n",
    "s1 = Student(34,56)\n",
    "\n",
    "s1.sum(2,4)\n",
    "\n"
   ]
  },
  {
   "cell_type": "code",
   "execution_count": 37,
   "id": "8a6a334c",
   "metadata": {},
   "outputs": [
    {
     "name": "stdout",
     "output_type": "stream",
     "text": [
      "b show\n"
     ]
    }
   ],
   "source": [
    "#method overriding\n",
    "\n",
    "class A:\n",
    "    def show(self):\n",
    "        print(\"in a show\")\n",
    "    \n",
    "class B(A):\n",
    "    def show(self):\n",
    "        print(\"b show\")\n",
    "\n",
    "\n",
    "a1 = B()\n",
    "a1.show()"
   ]
  },
  {
   "cell_type": "code",
   "execution_count": 40,
   "id": "186deaa8",
   "metadata": {},
   "outputs": [
    {
     "name": "stdout",
     "output_type": "stream",
     "text": [
      "<generator object topten at 0x000001AB08430740>\n"
     ]
    }
   ],
   "source": [
    "#generators\n",
    "\n",
    "def topten():\n",
    "    \n",
    "    yield 5\n",
    "    \n",
    "    \n",
    "    \n",
    "    \n",
    "\n",
    "    \n",
    "values = topten()\n",
    "\n",
    "\n",
    "print(values)"
   ]
  },
  {
   "cell_type": "code",
   "execution_count": 44,
   "id": "a95bc23f",
   "metadata": {},
   "outputs": [
    {
     "name": "stdout",
     "output_type": "stream",
     "text": [
      "You cannot divide a number by zero division by zero\n",
      "bye\n"
     ]
    }
   ],
   "source": [
    "#exception handling\n",
    "\n",
    "a = 5\n",
    "b = 0\n",
    "try:\n",
    "    print(a/b)# becuse there is an error here nd we want command to execute the next statement\n",
    "except ZeroDivisionError as e:\n",
    "    print(\"You cannot divide a number by zero\", e)\n",
    "except ValueError as e:\n",
    "    print(\"Invalid input\", e)\n",
    "    \n",
    "except Exception as e:\n",
    "    print(\"something went wrong\")\n",
    "\n",
    "finally:\n",
    "    print(\"I will work regardless\")\n",
    "    \n",
    "print(\"bye\")\n",
    "\n"
   ]
  },
  {
   "cell_type": "code",
   "execution_count": 69,
   "id": "9071fe00",
   "metadata": {},
   "outputs": [
    {
     "name": "stdout",
     "output_type": "stream",
     "text": [
      "Hi\n",
      "Hello\n",
      "Hello\n",
      "Hi\n",
      "Hi\n",
      "Hello\n",
      "Hello\n",
      "Hi\n",
      "Hi\n",
      "Hello\n",
      "Hello\n",
      "Hi\n",
      "Hi\n",
      "Hello\n",
      "Hello\n",
      "Hi\n",
      "Hi\n",
      "Hello\n",
      "Hello\n",
      "Hi\n",
      "Hi\n",
      "Hello\n",
      "Hello\n",
      "Hi\n"
     ]
    }
   ],
   "source": [
    "#multithreading: \n",
    "\n",
    "# from threading import *\n",
    "# from time import sleep\n",
    "\n",
    "# class Hello(Thread):\n",
    "#     def run(self):\n",
    "# #         for i in  range(0):\n",
    "# #             #print(\"Hello\")\n",
    "# #             sleep(1)\n",
    "    \n",
    "    \n",
    "    \n",
    "# class Hi(Thread):\n",
    "#     def run(self):\n",
    "# #         for i in range(0):\n",
    "# #             #print(\"Hi\")\n",
    "# #             sleep(1)\n",
    "            \n",
    "# t1 = Hello()\n",
    "# t2 = Hi()\n",
    "\n",
    "# # t1.start()\n",
    "# # sleep(0.2)\n",
    "# # t2.start()\n",
    "# # t1.join()\n",
    "# # t2.join()\n",
    "# # print('Bye')"
   ]
  },
  {
   "cell_type": "code",
   "execution_count": 24,
   "id": "449b39f7",
   "metadata": {},
   "outputs": [],
   "source": [
    "f = open('sample.txt', 'r')\n",
    "#f.read()\n",
    "\n",
    "#print(f.readline(4), end=\"\")\n"
   ]
  },
  {
   "cell_type": "code",
   "execution_count": 25,
   "id": "d8fec340",
   "metadata": {},
   "outputs": [
    {
     "data": {
      "text/plain": [
       "32"
      ]
     },
     "execution_count": 25,
     "metadata": {},
     "output_type": "execute_result"
    }
   ],
   "source": [
    "f1 = open('abc.txt', 'w')\n",
    "f1.write(\"Something good is happening soon\")"
   ]
  },
  {
   "cell_type": "code",
   "execution_count": 26,
   "id": "3ec05bc7",
   "metadata": {},
   "outputs": [
    {
     "data": {
      "text/plain": [
       "15"
      ]
     },
     "execution_count": 26,
     "metadata": {},
     "output_type": "execute_result"
    }
   ],
   "source": [
    "f1 = open('abc.txt', 'a')\n",
    "\n",
    "f1.write(\"Something extra\")"
   ]
  },
  {
   "cell_type": "code",
   "execution_count": 27,
   "id": "db72b62b",
   "metadata": {},
   "outputs": [],
   "source": [
    "for data in f:\n",
    "    f1.write(data)"
   ]
  },
  {
   "cell_type": "code",
   "execution_count": 39,
   "id": "203c8a01",
   "metadata": {},
   "outputs": [
    {
     "name": "stdout",
     "output_type": "stream",
     "text": [
      "Found 2\n"
     ]
    }
   ],
   "source": [
    "#linear search\n",
    "\n",
    "arr = [3,4,5,6,7,8]\n",
    "\n",
    "\n",
    "def search(list, n):\n",
    "    i = 0\n",
    "    for a in list:\n",
    "        \n",
    "        if a==n:\n",
    "            globals() ['pos'] = i\n",
    "\n",
    "            return True\n",
    "        i+=1\n",
    "    else:\n",
    "        return False\n",
    "\n",
    "if search(arr,4):\n",
    "    print(\"Found\", pos+1)\n",
    "else:\n",
    "    print(\"Not found\")"
   ]
  },
  {
   "cell_type": "code",
   "execution_count": null,
   "id": "bb39aa3d",
   "metadata": {},
   "outputs": [],
   "source": [
    "#Binary search\n",
    "\n",
    "#the array is sorted first"
   ]
  },
  {
   "cell_type": "code",
   "execution_count": 2,
   "id": "fa88b1c8",
   "metadata": {},
   "outputs": [],
   "source": [
    "import mysql.connector\n",
    "mydb =mysql.connector.connect(host='localhost', user='root', passwd='1234')"
   ]
  },
  {
   "cell_type": "code",
   "execution_count": 6,
   "id": "4418138a",
   "metadata": {},
   "outputs": [
    {
     "name": "stdout",
     "output_type": "stream",
     "text": [
      "navin class\n",
      "dami school\n",
      "shola tops\n"
     ]
    }
   ],
   "source": [
    "#zip\n",
    "names = ['navin', 'dami', 'shola']\n",
    "other = ['class', 'school', 'tops']\n",
    "\n",
    "zipped = list(zip(names, other))\n",
    "\n",
    "zipped\n",
    "\n",
    "for a,b in zipped:\n",
    "    print(a,b)\n",
    "    \n",
    "\n",
    "\n"
   ]
  },
  {
   "cell_type": "code",
   "execution_count": null,
   "id": "92604879",
   "metadata": {},
   "outputs": [],
   "source": [
    "    import flask as Flask\n",
    "    "
   ]
  }
 ],
 "metadata": {
  "kernelspec": {
   "display_name": "Python 3 (ipykernel)",
   "language": "python",
   "name": "python3"
  },
  "language_info": {
   "codemirror_mode": {
    "name": "ipython",
    "version": 3
   },
   "file_extension": ".py",
   "mimetype": "text/x-python",
   "name": "python",
   "nbconvert_exporter": "python",
   "pygments_lexer": "ipython3",
   "version": "3.10.4"
  }
 },
 "nbformat": 4,
 "nbformat_minor": 5
}
